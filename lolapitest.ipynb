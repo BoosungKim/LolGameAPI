{
 "cells": [
  {
   "cell_type": "code",
   "execution_count": 40,
   "metadata": {},
   "outputs": [],
   "source": [
    "import json\n",
    "import pprint"
   ]
  },
  {
   "cell_type": "code",
   "execution_count": 7,
   "metadata": {},
   "outputs": [],
   "source": [
    "with open('match_sample.json', mode='r', encoding='utf-8') as f:\n",
    "    jsontext = f.read()"
   ]
  },
  {
   "cell_type": "code",
   "execution_count": 11,
   "metadata": {},
   "outputs": [],
   "source": [
    "data = json.loads(jsontext)"
   ]
  },
  {
   "cell_type": "code",
   "execution_count": 17,
   "metadata": {},
   "outputs": [
    {
     "data": {
      "text/plain": [
       "dict_keys(['mapId', 'participantIdentities', 'matchMode', 'participants', 'matchVersion', 'region', 'matchType', 'teams', 'season', 'matchId', 'matchCreation', 'timeline', 'matchDuration', 'queueType', 'platformId'])"
      ]
     },
     "execution_count": 17,
     "output_type": "execute_result",
     "metadata": {}
    }
   ],
   "source": [
    "data.keys()"
   ]
  },
  {
   "cell_type": "code",
   "execution_count": 26,
   "metadata": {},
   "outputs": [
    {
     "data": {
      "text/plain": [
       "'KR'"
      ]
     },
     "execution_count": 26,
     "output_type": "execute_result",
     "metadata": {}
    }
   ],
   "source": [
    "data['platformId']"
   ]
  },
  {
   "cell_type": "code",
   "execution_count": 22,
   "metadata": {},
   "outputs": [
    {
     "data": {
      "text/plain": [
       "[{'participantId': 1},\n",
       " {'participantId': 2},\n",
       " {'participantId': 3},\n",
       " {'participantId': 4},\n",
       " {'participantId': 5},\n",
       " {'participantId': 6},\n",
       " {'participantId': 7},\n",
       " {'participantId': 8},\n",
       " {'participantId': 9},\n",
       " {'participantId': 10}]"
      ]
     },
     "execution_count": 22,
     "output_type": "execute_result",
     "metadata": {}
    }
   ],
   "source": [
    "data['participantIdentities']"
   ]
  },
  {
   "cell_type": "code",
   "execution_count": 33,
   "metadata": {},
   "outputs": [
    {
     "data": {
      "text/plain": [
       "{'championId': 105,\n",
       " 'highestAchievedSeasonTier': 'GOLD',\n",
       " 'masteries': [{'masteryId': 6111, 'rank': 5},\n",
       "  {'masteryId': 6121, 'rank': 1},\n",
       "  {'masteryId': 6131, 'rank': 5},\n",
       "  {'masteryId': 6141, 'rank': 1},\n",
       "  {'masteryId': 6311, 'rank': 5},\n",
       "  {'masteryId': 6323, 'rank': 1},\n",
       "  {'masteryId': 6331, 'rank': 5},\n",
       "  {'masteryId': 6343, 'rank': 1},\n",
       "  {'masteryId': 6351, 'rank': 5},\n",
       "  {'masteryId': 6362, 'rank': 1}],\n",
       " 'participantId': 6,\n",
       " 'runes': [{'rank': 9, 'runeId': 5247},\n",
       "  {'rank': 3, 'runeId': 5289},\n",
       "  {'rank': 6, 'runeId': 5296},\n",
       "  {'rank': 5, 'runeId': 5316},\n",
       "  {'rank': 4, 'runeId': 5317},\n",
       "  {'rank': 1, 'runeId': 5347},\n",
       "  {'rank': 2, 'runeId': 5357}],\n",
       " 'spell1Id': 4,\n",
       " 'spell2Id': 11,\n",
       " 'stats': {'assists': 7,\n",
       "  'champLevel': 13,\n",
       "  'combatPlayerScore': 0,\n",
       "  'deaths': 0,\n",
       "  'doubleKills': 0,\n",
       "  'firstBloodAssist': False,\n",
       "  'firstBloodKill': False,\n",
       "  'firstInhibitorAssist': False,\n",
       "  'firstInhibitorKill': False,\n",
       "  'firstTowerAssist': False,\n",
       "  'firstTowerKill': False,\n",
       "  'goldEarned': 9677,\n",
       "  'goldSpent': 7400,\n",
       "  'inhibitorKills': 0,\n",
       "  'item0': 2032,\n",
       "  'item1': 3001,\n",
       "  'item2': 0,\n",
       "  'item3': 1029,\n",
       "  'item4': 3020,\n",
       "  'item5': 1414,\n",
       "  'item6': 3364,\n",
       "  'killingSprees': 1,\n",
       "  'kills': 6,\n",
       "  'largestCriticalStrike': 0,\n",
       "  'largestKillingSpree': 6,\n",
       "  'largestMultiKill': 1,\n",
       "  'magicDamageDealt': 58762,\n",
       "  'magicDamageDealtToChampions': 9885,\n",
       "  'magicDamageTaken': 3838,\n",
       "  'minionsKilled': 27,\n",
       "  'neutralMinionsKilled': 63,\n",
       "  'neutralMinionsKilledEnemyJungle': 13,\n",
       "  'neutralMinionsKilledTeamJungle': 50,\n",
       "  'objectivePlayerScore': 0,\n",
       "  'pentaKills': 0,\n",
       "  'physicalDamageDealt': 29129,\n",
       "  'physicalDamageDealtToChampions': 1865,\n",
       "  'physicalDamageTaken': 13270,\n",
       "  'quadraKills': 0,\n",
       "  'sightWardsBoughtInGame': 0,\n",
       "  'totalDamageDealt': 98306,\n",
       "  'totalDamageDealtToChampions': 12283,\n",
       "  'totalDamageTaken': 17144,\n",
       "  'totalHeal': 5310,\n",
       "  'totalPlayerScore': 0,\n",
       "  'totalScoreRank': 0,\n",
       "  'totalTimeCrowdControlDealt': 446,\n",
       "  'totalUnitsHealed': 1,\n",
       "  'towerKills': 0,\n",
       "  'tripleKills': 0,\n",
       "  'trueDamageDealt': 10413,\n",
       "  'trueDamageDealtToChampions': 532,\n",
       "  'trueDamageTaken': 36,\n",
       "  'unrealKills': 0,\n",
       "  'visionWardsBoughtInGame': 3,\n",
       "  'wardsKilled': 9,\n",
       "  'wardsPlaced': 8,\n",
       "  'winner': True},\n",
       " 'teamId': 200,\n",
       " 'timeline': {'creepsPerMinDeltas': {'tenToTwenty': 1.3, 'zeroToTen': 0.1},\n",
       "  'csDiffPerMinDeltas': {'tenToTwenty': -0.6, 'zeroToTen': 0.1},\n",
       "  'damageTakenDiffPerMinDeltas': {'tenToTwenty': 10.300000000000011,\n",
       "   'zeroToTen': -153.80000000000004},\n",
       "  'damageTakenPerMinDeltas': {'tenToTwenty': 822.2, 'zeroToTen': 433.6},\n",
       "  'goldPerMinDeltas': {'tenToTwenty': 447.5, 'zeroToTen': 243.7},\n",
       "  'lane': 'JUNGLE',\n",
       "  'role': 'NONE',\n",
       "  'xpDiffPerMinDeltas': {'tenToTwenty': -37.900000000000034,\n",
       "   'zeroToTen': 6.899999999999977},\n",
       "  'xpPerMinDeltas': {'tenToTwenty': 489.79999999999995,\n",
       "   'zeroToTen': 317.29999999999995}}}"
      ]
     },
     "execution_count": 33,
     "output_type": "execute_result",
     "metadata": {}
    }
   ],
   "source": [
    "# 내 정보\n",
    "data['participants'][5]"
   ]
  },
  {
   "cell_type": "code",
   "execution_count": 38,
   "metadata": {},
   "outputs": [],
   "source": [
    "frames = data['timeline']['frames']"
   ]
  },
  {
   "cell_type": "code",
   "execution_count": 46,
   "metadata": {},
   "outputs": [
    {
     "data": {
      "text/plain": [
       "{'currentGold': 312,\n",
       " 'dominionScore': 0,\n",
       " 'jungleMinionsKilled': 25,\n",
       " 'level': 6,\n",
       " 'minionsKilled': 1,\n",
       " 'participantId': 6,\n",
       " 'position': {'x': 6357, 'y': 12310},\n",
       " 'teamScore': 0,\n",
       " 'totalGold': 2937,\n",
       " 'xp': 3173}"
      ]
     },
     "execution_count": 46,
     "output_type": "execute_result",
     "metadata": {}
    }
   ],
   "source": [
    "# sample\n",
    "frames[10]['participantFrames']['6']"
   ]
  },
  {
   "cell_type": "code",
   "execution_count": 48,
   "metadata": {},
   "outputs": [
    {
     "data": {
      "text/plain": [
       "dict_keys(['timestamp', 'participantFrames', 'events'])"
      ]
     },
     "execution_count": 48,
     "output_type": "execute_result",
     "metadata": {}
    }
   ],
   "source": [
    "frames[5].keys()"
   ]
  },
  {
   "cell_type": "code",
   "execution_count": 86,
   "metadata": {},
   "outputs": [
    {
     "name": "stdout",
     "output_type": "stream",
     "text": [
      "시간 | 총 골드 | 위치\n",
      " 0분 |   500  | (14486, 14511)\n",
      " 1분 |   500  | (11934,  7648)\n",
      " 2분 |   587  | (11306,  7110)\n",
      " 3분 |   907  | (13173, 13743)\n",
      " 4분 |  1427  | ( 3072, 13456)\n",
      " 5분 |  1734  | ( 7133,  9743)\n",
      " 6분 |  1926  | ( 8675,  9125)\n",
      " 7분 |  2119  | (12509,  6455)\n",
      " 8분 |  2532  | (10949,  3695)\n",
      " 9분 |  2654  | (12816, 12230)\n",
      "10분 |  2937  | ( 6357, 12310)\n",
      "11분 |  3354  | ( 5345,  9219)\n",
      "12분 |  3880  | (11728,  1961)\n",
      "13분 |  4262  | ( 6602,  9055)\n",
      "14분 |  4490  | (11934, 12271)\n",
      "15분 |  4738  | (10028,  4637)\n",
      "16분 |  5080  | (11058,  8511)\n",
      "17분 |  5298  | ( 6751, 12498)\n",
      "18분 |  6136  | ( 4839,  8268)\n",
      "19분 |  6729  | ( 7270, 11178)\n",
      "20분 |  7412  | (13854, 14164)\n",
      "21분 |  7650  | (10295,  4799)\n",
      "22분 |  8111  | ( 8031,  3510)\n",
      "23분 |  8600  | (12556,  4996)\n",
      "24분 |  8765  | ( 5156,  7709)\n",
      "25분 |  9007  | ( 8317,  6137)\n",
      "26분 |  9574  | ( 7225,  7253)\n",
      "27분 |  9677  "
     ]
    }
   ],
   "source": [
    "#TODO : Pandas에 넣어서 엑셀로 뽑아 볼 수 있도록\n",
    "print('시간 | 총 골드 | 위치')\n",
    "for frame in frames:\n",
    "    myframe = frame['participantFrames']['6']\n",
    "    time_m = frame['timestamp']//60000\n",
    "    position = myframe.get('position', dict())\n",
    "        \n",
    "    print('%2d분 | %5d ' % (time_m, myframe['totalGold']), end=' ')\n",
    "    \n",
    "    if position:\n",
    "        print('| (%5d, %5d)' % (position['x'], position['y']), end='\\n')"
   ]
  },
  {
   "cell_type": "code",
   "execution_count": 36,
   "metadata": {},
   "outputs": [
    {
     "data": {
      "text/plain": [
       "{'currentGold': 884,\n",
       " 'dominionScore': 0,\n",
       " 'jungleMinionsKilled': 16,\n",
       " 'level': 4,\n",
       " 'minionsKilled': 0,\n",
       " 'participantId': 6,\n",
       " 'position': {'x': 7133, 'y': 9743},\n",
       " 'teamScore': 0,\n",
       " 'totalGold': 1734,\n",
       " 'xp': 1641}"
      ]
     },
     "execution_count": 36,
     "output_type": "execute_result",
     "metadata": {}
    }
   ],
   "source": [
    "frame[5]['participantFrames']['6']"
   ]
  },
  {
   "cell_type": "code",
   "execution_count": null,
   "metadata": {},
   "outputs": [],
   "source": [
    ""
   ]
  }
 ],
 "metadata": {
  "kernelspec": {
   "display_name": "Python 3.5",
   "language": "python",
   "name": "python3.5"
  },
  "language_info": {
   "codemirror_mode": {
    "name": "ipython",
    "version": 3.0
   },
   "file_extension": ".py",
   "mimetype": "text/x-python",
   "name": "python",
   "nbconvert_exporter": "python",
   "pygments_lexer": "ipython3",
   "version": "3.5.0"
  }
 },
 "nbformat": 4,
 "nbformat_minor": 0
}