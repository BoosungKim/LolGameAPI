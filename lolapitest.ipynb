{
 "cells": [
  {
   "cell_type": "code",
   "execution_count": 49,
   "metadata": {},
   "outputs": [],
   "source": [
    "import json\n",
    "from pandas import DataFrame\n",
    "import pandas as pd\n",
    "\n",
    "def make_simple_match_info(matchjsonfile):    \n",
    "    with open(matchjsonfile, mode='r', encoding='utf-8') as f:\n",
    "        jsontext = f.read()\n",
    "\n",
    "    data = json.loads(jsontext)\n",
    "\n",
    "    frames = data['timeline']['frames']\n",
    "    record = []\n",
    "    for frame in frames:\n",
    "        data_per_min = {'time': 0, 'total_gold': 0, 'pos_x': -1, 'pos_y': -1}\n",
    "\n",
    "        time_m = frame['timestamp']//60000\n",
    "        mydata = frame['participantFrames']['6']\n",
    "        position = mydata.get('position', dict())\n",
    "\n",
    "        data_per_min['time'] = time_m\n",
    "        data_per_min['total_gold'] = mydata['totalGold']\n",
    "\n",
    "        if position:\n",
    "            data_per_min['pos_x'] = position['x']\n",
    "            data_per_min['pos_y'] = position['y']\n",
    "\n",
    "        record.append(data_per_min)\n",
    "\n",
    "    df = DataFrame(record)\n",
    "\n",
    "    order = ['time', 'total_gold', 'pos_x', 'pos_y']\n",
    "    df = df[order]\n",
    "\n",
    "    outputname = 'matchinfo.csv'\n",
    "    df.to_csv(outputname, sep='\\t')\n",
    "    print('Complete to create match info : ', outputname)"
   ]
  },
  {
   "cell_type": "code",
   "execution_count": 64,
   "metadata": {},
   "outputs": [],
   "source": [
    "with open('game_sample.json', mode='r', encoding='utf-8') as f:\n",
    "    jsontext = f.read()\n",
    "\n",
    "game_data = json.loads(jsontext)"
   ]
  },
  {
   "cell_type": "code",
   "execution_count": 65,
   "metadata": {},
   "outputs": [
    {
     "data": {
      "text/plain": [
       "dict_keys(['gameMode', 'invalid', 'subType', 'gameId', 'createDate', 'fellowPlayers', 'mapId', 'ipEarned', 'spell2', 'teamId', 'stats', 'gameType', 'championId', 'spell1', 'level'])"
      ]
     },
     "execution_count": 65,
     "output_type": "execute_result",
     "metadata": {}
    }
   ],
   "source": [
    "game_data.keys()"
   ]
  },
  {
   "cell_type": "code",
   "execution_count": 66,
   "metadata": {},
   "outputs": [],
   "source": [
    "otherplayers = data['fellowPlayers']"
   ]
  },
  {
   "cell_type": "code",
   "execution_count": 67,
   "metadata": {},
   "outputs": [
    {
     "data": {
      "text/plain": [
       "[{'championId': 64, 'summonerId': 18193376, 'teamId': 200},\n",
       " {'championId': 157, 'summonerId': 5656657, 'teamId': 200},\n",
       " {'championId': 222, 'summonerId': 1665034, 'teamId': 100},\n",
       " {'championId': 17, 'summonerId': 5357969, 'teamId': 100},\n",
       " {'championId': 1, 'summonerId': 31701082, 'teamId': 100},\n",
       " {'championId': 29, 'summonerId': 2492321, 'teamId': 100},\n",
       " {'championId': 110, 'summonerId': 1950456, 'teamId': 200},\n",
       " {'championId': 79, 'summonerId': 40191788, 'teamId': 100},\n",
       " {'championId': 201, 'summonerId': 4625181, 'teamId': 200}]"
      ]
     },
     "execution_count": 67,
     "output_type": "execute_result",
     "metadata": {}
    }
   ],
   "source": [
    "otherplayers"
   ]
  },
  {
   "cell_type": "code",
   "execution_count": 48,
   "metadata": {},
   "outputs": [
    {
     "name": "stdout",
     "output_type": "stream",
     "text": [
      "Complete to create match info :  matchinfo.csv\n"
     ]
    }
   ],
   "source": [
    "MakeSimpleMatchInfo('match_sample.json')"
   ]
  },
  {
   "cell_type": "code",
   "execution_count": 1,
   "metadata": {},
   "outputs": [],
   "source": [
    "import json\n",
    "import pprint"
   ]
  },
  {
   "cell_type": "code",
   "execution_count": 68,
   "metadata": {},
   "outputs": [],
   "source": [
    "with open('match_sample.json', mode='r', encoding='utf-8') as f:\n",
    "    jsontext = f.read()"
   ]
  },
  {
   "cell_type": "code",
   "execution_count": 69,
   "metadata": {},
   "outputs": [],
   "source": [
    "match_data = json.loads(jsontext)"
   ]
  },
  {
   "cell_type": "code",
   "execution_count": 70,
   "metadata": {},
   "outputs": [
    {
     "data": {
      "text/plain": [
       "dict_keys(['participantIdentities', 'region', 'teams', 'mapId', 'season', 'timeline', 'matchId', 'queueType', 'matchCreation', 'matchDuration', 'matchType', 'platformId', 'matchMode', 'participants', 'matchVersion'])"
      ]
     },
     "execution_count": 70,
     "output_type": "execute_result",
     "metadata": {}
    }
   ],
   "source": [
    "match_data.keys()"
   ]
  },
  {
   "cell_type": "code",
   "execution_count": 71,
   "metadata": {},
   "outputs": [
    {
     "data": {
      "text/plain": [
       "2422511282"
      ]
     },
     "execution_count": 71,
     "output_type": "execute_result",
     "metadata": {}
    }
   ],
   "source": [
    "# Summoner's ID : 2024142\n",
    "match_data['matchId']"
   ]
  },
  {
   "cell_type": "code",
   "execution_count": 72,
   "metadata": {},
   "outputs": [
    {
     "data": {
      "text/plain": [
       "[{'participantId': 1},\n",
       " {'participantId': 2},\n",
       " {'participantId': 3},\n",
       " {'participantId': 4},\n",
       " {'participantId': 5},\n",
       " {'participantId': 6},\n",
       " {'participantId': 7},\n",
       " {'participantId': 8},\n",
       " {'participantId': 9},\n",
       " {'participantId': 10}]"
      ]
     },
     "execution_count": 72,
     "output_type": "execute_result",
     "metadata": {}
    }
   ],
   "source": [
    "match_data['participantIdentities']"
   ]
  },
  {
   "cell_type": "code",
   "execution_count": 73,
   "metadata": {},
   "outputs": [],
   "source": [
    "time_frames = match_data['timeline']['frames']"
   ]
  },
  {
   "cell_type": "code",
   "execution_count": 83,
   "metadata": {},
   "outputs": [],
   "source": [
    "sampleplayer = match_data['participants'][0]"
   ]
  },
  {
   "cell_type": "code",
   "execution_count": 84,
   "metadata": {},
   "outputs": [
    {
     "data": {
      "text/plain": [
       "dict_keys(['masteries', 'spell1Id', 'spell2Id', 'championId', 'stats', 'runes', 'participantId', 'timeline', 'teamId', 'highestAchievedSeasonTier'])"
      ]
     },
     "execution_count": 84,
     "output_type": "execute_result",
     "metadata": {}
    }
   ],
   "source": [
    "sampleplayer.keys()"
   ]
  },
  {
   "cell_type": "code",
   "execution_count": 87,
   "metadata": {},
   "outputs": [
    {
     "data": {
      "text/plain": [
       "dict_keys(['neutralMinionsKilledEnemyJungle', 'firstInhibitorKill', 'totalDamageTaken', 'firstInhibitorAssist', 'minionsKilled', 'combatPlayerScore', 'objectivePlayerScore', 'totalPlayerScore', 'magicDamageDealtToChampions', 'physicalDamageDealtToChampions', 'totalTimeCrowdControlDealt', 'towerKills', 'wardsPlaced', 'item5', 'item0', 'tripleKills', 'goldEarned', 'wardsKilled', 'firstTowerKill', 'winner', 'totalHeal', 'item4', 'firstBloodKill', 'item3', 'sightWardsBoughtInGame', 'physicalDamageDealt', 'trueDamageTaken', 'item2', 'largestCriticalStrike', 'killingSprees', 'pentaKills', 'visionWardsBoughtInGame', 'neutralMinionsKilled', 'totalDamageDealtToChampions', 'unrealKills', 'item1', 'quadraKills', 'magicDamageDealt', 'firstTowerAssist', 'kills', 'inhibitorKills', 'neutralMinionsKilledTeamJungle', 'magicDamageTaken', 'trueDamageDealt', 'assists', 'largestMultiKill', 'totalUnitsHealed', 'firstBloodAssist', 'totalDamageDealt', 'largestKillingSpree', 'goldSpent', 'champLevel', 'trueDamageDealtToChampions', 'totalScoreRank', 'physicalDamageTaken', 'item6', 'doubleKills', 'deaths'])"
      ]
     },
     "execution_count": 87,
     "output_type": "execute_result",
     "metadata": {}
    }
   ],
   "source": [
    "sampleplayer['stats'].keys()"
   ]
  },
  {
   "cell_type": "code",
   "execution_count": 90,
   "metadata": {},
   "outputs": [],
   "source": [
    "stat_keys = list(sampleplayer['stats'].keys())"
   ]
  },
  {
   "cell_type": "code",
   "execution_count": 92,
   "metadata": {},
   "outputs": [],
   "source": [
    "stat_keys.sort()"
   ]
  },
  {
   "cell_type": "code",
   "execution_count": 93,
   "metadata": {},
   "outputs": [
    {
     "data": {
      "text/plain": [
       "['assists',\n",
       " 'champLevel',\n",
       " 'combatPlayerScore',\n",
       " 'deaths',\n",
       " 'doubleKills',\n",
       " 'firstBloodAssist',\n",
       " 'firstBloodKill',\n",
       " 'firstInhibitorAssist',\n",
       " 'firstInhibitorKill',\n",
       " 'firstTowerAssist',\n",
       " 'firstTowerKill',\n",
       " 'goldEarned',\n",
       " 'goldSpent',\n",
       " 'inhibitorKills',\n",
       " 'item0',\n",
       " 'item1',\n",
       " 'item2',\n",
       " 'item3',\n",
       " 'item4',\n",
       " 'item5',\n",
       " 'item6',\n",
       " 'killingSprees',\n",
       " 'kills',\n",
       " 'largestCriticalStrike',\n",
       " 'largestKillingSpree',\n",
       " 'largestMultiKill',\n",
       " 'magicDamageDealt',\n",
       " 'magicDamageDealtToChampions',\n",
       " 'magicDamageTaken',\n",
       " 'minionsKilled',\n",
       " 'neutralMinionsKilled',\n",
       " 'neutralMinionsKilledEnemyJungle',\n",
       " 'neutralMinionsKilledTeamJungle',\n",
       " 'objectivePlayerScore',\n",
       " 'pentaKills',\n",
       " 'physicalDamageDealt',\n",
       " 'physicalDamageDealtToChampions',\n",
       " 'physicalDamageTaken',\n",
       " 'quadraKills',\n",
       " 'sightWardsBoughtInGame',\n",
       " 'totalDamageDealt',\n",
       " 'totalDamageDealtToChampions',\n",
       " 'totalDamageTaken',\n",
       " 'totalHeal',\n",
       " 'totalPlayerScore',\n",
       " 'totalScoreRank',\n",
       " 'totalTimeCrowdControlDealt',\n",
       " 'totalUnitsHealed',\n",
       " 'towerKills',\n",
       " 'tripleKills',\n",
       " 'trueDamageDealt',\n",
       " 'trueDamageDealtToChampions',\n",
       " 'trueDamageTaken',\n",
       " 'unrealKills',\n",
       " 'visionWardsBoughtInGame',\n",
       " 'wardsKilled',\n",
       " 'wardsPlaced',\n",
       " 'winner']"
      ]
     },
     "execution_count": 93,
     "output_type": "execute_result",
     "metadata": {}
    }
   ],
   "source": [
    "stat_keys"
   ]
  },
  {
   "cell_type": "code",
   "execution_count": null,
   "metadata": {},
   "outputs": [],
   "source": [
    ""
   ]
  }
 ],
 "metadata": {
  "kernelspec": {
   "display_name": "Python 3",
   "language": "python",
   "name": "python3"
  },
  "language_info": {
   "codemirror_mode": {
    "name": "ipython",
    "version": 3.0
   },
   "file_extension": ".py",
   "mimetype": "text/x-python",
   "name": "python",
   "nbconvert_exporter": "python",
   "pygments_lexer": "ipython3",
   "version": "3.5.0"
  }
 },
 "nbformat": 4,
 "nbformat_minor": 0
}